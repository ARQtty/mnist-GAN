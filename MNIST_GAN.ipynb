{
 "cells": [
  {
   "cell_type": "code",
   "execution_count": null,
   "metadata": {},
   "outputs": [],
   "source": [
    "import tensorflow as tf\n",
    "from tensorflow.examples.tutorials.mnist import input_data\n",
    "import numpy as np\n",
    "from matplotlib import pyplot as plt\n",
    "import matplotlib.gridspec as gridspec"
   ]
  },
  {
   "cell_type": "markdown",
   "metadata": {},
   "source": [
    "Utils"
   ]
  },
  {
   "cell_type": "code",
   "execution_count": null,
   "metadata": {},
   "outputs": [],
   "source": [
    "def xavier_init(size):\n",
    "    # Weight initializer\n",
    "    in_dim = size[0]\n",
    "    xavier_stddev = 1. / tf.sqrt(in_dim / 2.)\n",
    "    return tf.random_normal(shape=size, stddev=xavier_stddev)\n",
    "\n",
    "\n",
    "def plot(samples):\n",
    "    # 3x3 plot for show generative net's output\n",
    "    fig = plt.figure(figsize=(3, 3))\n",
    "    gs = gridspec.GridSpec(3, 3)\n",
    "    gs.update(wspace=0.05, hspace=0.05)\n",
    "\n",
    "    for i, sample in enumerate(samples):\n",
    "        ax = plt.subplot(gs[i])\n",
    "        plt.axis('off')\n",
    "        ax.set_xticklabels([])\n",
    "        ax.set_yticklabels([])\n",
    "        ax.set_aspect('equal')\n",
    "        plt.imshow(sample.reshape(28, 28), cmap='Greys_r')\n",
    "\n",
    "    return fig"
   ]
  },
  {
   "cell_type": "markdown",
   "metadata": {},
   "source": [
    "# Building networks"
   ]
  },
  {
   "cell_type": "markdown",
   "metadata": {},
   "source": [
    "Discriminative net "
   ]
  },
  {
   "cell_type": "code",
   "execution_count": null,
   "metadata": {},
   "outputs": [],
   "source": [
    "mnist_shape = 784\n",
    "hidden_size = 256\n",
    "output_shape = 10\n",
    "\n",
    "input_D_ph = tf.placeholder(tf.float32, [None, mnist_shape], name='Real_X')\n",
    "\n",
    "D_W1 = tf.Variable(xavier_init((mnist_shape, hidden_size)), name='D_W1')\n",
    "D_b1 = tf.Variable(tf.zeros(hidden_size), name='D_b1')\n",
    "\n",
    "D_W2 = tf.Variable(xavier_init((hidden_size, output_shape)), name='D_W2')\n",
    "D_b2 = tf.Variable(tf.zeros(output_shape), name='D_b2')\n",
    "\n",
    "\n",
    "def discriminative_network(x):\n",
    "    layer1 = tf.matmul(x, D_W1) + D_b1\n",
    "    layer1 = tf.nn.relu(layer1)\n",
    "    \n",
    "    layer2 = tf.matmul(layer1, D_W2) + D_b2\n",
    "    layer2 = tf.nn.sigmoid(layer2)\n",
    "\n",
    "    return layer2"
   ]
  },
  {
   "cell_type": "markdown",
   "metadata": {},
   "source": [
    "Generative net"
   ]
  },
  {
   "cell_type": "code",
   "execution_count": null,
   "metadata": {},
   "outputs": [],
   "source": [
    "z_dim = 300\n",
    "input_G_ph = tf.placeholder(tf.float32, [None, z_dim], name='Fake_X')\n",
    "\n",
    "G_W1 = tf.Variable(xavier_init((z_dim, hidden_size)), name='G_W1')\n",
    "G_b1 = tf.Variable(tf.zeros(hidden_size), name='G_b1')\n",
    "\n",
    "G_W2 = tf.Variable(xavier_init((hidden_size, mnist_shape)), name='G_W2')\n",
    "G_b2 = tf.Variable(tf.zeros(mnist_shape), name='G_b2')\n",
    "\n",
    "\n",
    "def generative_network(z):\n",
    "    layer1 = tf.matmul(z, G_W1) + G_b1\n",
    "    layer1 = tf.nn.relu(layer1)\n",
    "    \n",
    "    layer2 = tf.matmul(layer1, G_W2) + G_b2\n",
    "    layer2 = tf.nn.sigmoid(layer2)\n",
    "\n",
    "    return layer2\n",
    "\n",
    "\n",
    "def noise_generator(shape):\n",
    "    noise = np.random.uniform(-1., 1., size=shape)\n",
    "    return noise"
   ]
  },
  {
   "cell_type": "markdown",
   "metadata": {},
   "source": [
    "# Calculating net's outputs and losses"
   ]
  },
  {
   "cell_type": "code",
   "execution_count": null,
   "metadata": {},
   "outputs": [],
   "source": [
    "fake_input = generative_network(input_G_ph)\n",
    "\n",
    "D_real = discriminative_network(input_D_ph)\n",
    "D_fake = discriminative_network(fake_input)\n",
    "\n",
    "D_real_loss = tf.reduce_mean(tf.log(D_real))\n",
    "D_fake_loss = tf.reduce_mean(tf.log(1. - D_fake))\n",
    "D_loss = -(D_real_loss + D_fake_loss)\n",
    "\n",
    "G_loss = -tf.reduce_mean(tf.log(D_fake))"
   ]
  },
  {
   "cell_type": "markdown",
   "metadata": {},
   "source": [
    "# Training"
   ]
  },
  {
   "cell_type": "code",
   "execution_count": null,
   "metadata": {},
   "outputs": [],
   "source": [
    "lr = 0.0001\n",
    "D_train = tf.train.AdamOptimizer(learning_rate=lr).minimize(D_loss, var_list=[D_W1, D_b1, D_W2, D_b2])\n",
    "G_train = tf.train.AdamOptimizer(learning_rate=lr).minimize(G_loss, var_list=[G_W1, G_b1, G_W2, G_b2])"
   ]
  },
  {
   "cell_type": "code",
   "execution_count": null,
   "metadata": {
    "scrolled": false
   },
   "outputs": [],
   "source": [
    "mnist_ex = input_data.read_data_sets(\"./data/\", one_hot=True)\n",
    "\n",
    "epoches = 1500\n",
    "batch_size = 4096\n",
    "\n",
    "config = tf.ConfigProto()\n",
    "config.gpu_options.allow_growth = True\n",
    "config.log_device_placement=True\n",
    "sess = tf.Session()#config=config)\n",
    "\n",
    "sess.run(tf.initialize_all_variables())\n",
    "with sess:\n",
    "    for e in range(epoches):\n",
    "        d_losses, g_losses = [], []\n",
    "        \n",
    "        if e % 5 == 0:\n",
    "            noise = noise_generator((9, z_dim))\n",
    "            samples = sess.run(generative_network(input_G_ph), feed_dict={input_G_ph: noise})\n",
    "\n",
    "            fig = plot(samples)\n",
    "            plt.savefig('./out/{}.png'.format(str(e).zfill(3)), bbox_inches='tight')\n",
    "            plt.close(fig)\n",
    "            \n",
    "        \n",
    "        for step in range(mnist_ex.train.num_examples // batch_size):\n",
    "            batchX, _ = mnist_ex.train.next_batch(batch_size)\n",
    "            noise = noise_generator((batch_size, z_dim))\n",
    "            \n",
    "            d_loss, _ = sess.run([D_loss, D_train], feed_dict={input_D_ph: batchX, input_G_ph: noise})\n",
    "            g_loss, _ = sess.run([G_loss, G_train], feed_dict={input_G_ph: noise})\n",
    "            \n",
    "            d_losses.append(d_loss)\n",
    "            g_losses.append(g_loss)\n",
    "        \n",
    "        print(\"Epoch %d   D loss: %.5f   G loss: %.5f\" % (e, d_loss, g_loss))"
   ]
  }
 ],
 "metadata": {
  "kernelspec": {
   "display_name": "Python 3",
   "language": "python",
   "name": "python3"
  },
  "language_info": {
   "codemirror_mode": {
    "name": "ipython",
    "version": 3
   },
   "file_extension": ".py",
   "mimetype": "text/x-python",
   "name": "python",
   "nbconvert_exporter": "python",
   "pygments_lexer": "ipython3",
   "version": "3.6.8"
  }
 },
 "nbformat": 4,
 "nbformat_minor": 2
}
